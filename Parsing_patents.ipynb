{
 "metadata": {
  "language_info": {
   "codemirror_mode": {
    "name": "ipython",
    "version": 3
   },
   "file_extension": ".py",
   "mimetype": "text/x-python",
   "name": "python",
   "nbconvert_exporter": "python",
   "pygments_lexer": "ipython3",
   "version": "3.8.3-final"
  },
  "orig_nbformat": 2,
  "kernelspec": {
   "name": "Python 3.8.3 64-bit (conda)",
   "display_name": "Python 3.8.3 64-bit (conda)",
   "metadata": {
    "interpreter": {
     "hash": "c0f70214c0dd213f07f54ee5d6e0ea644bdbba35113c9bfe8aaa0d1db03ad5dd"
    }
   }
  }
 },
 "nbformat": 4,
 "nbformat_minor": 2,
 "cells": [
  {
   "cell_type": "code",
   "execution_count": 29,
   "metadata": {},
   "outputs": [],
   "source": [
    "import xml.etree.ElementTree as ET\n",
    "import re\n",
    "import pandas as pd \n",
    "from bs4 import BeautifulSoup as bs"
   ]
  },
  {
   "cell_type": "code",
   "execution_count": 30,
   "metadata": {},
   "outputs": [
    {
     "output_type": "stream",
     "name": "stdout",
     "text": [
      "No. of patents :  5804\n"
     ]
    }
   ],
   "source": [
    "# open file in read mode \n",
    "file = open(\"ipa200409.xml\", \"r\") \n",
    "file_content_raw = file.read()\n",
    "file.close()\n",
    "text1 = re.compile(\"<\\?xml version\\=\\\"1\\.0\\\" encoding\\=\\\"UTF\\-8\\\"\\?>\")\n",
    "file_content = text1.split(file_content_raw)\n",
    "\n",
    "while \"\" in file_content:\n",
    "  file_content.remove('')\n",
    "  print(\"No. of patents : \", len(file_content))"
   ]
  },
  {
   "cell_type": "code",
   "execution_count": 31,
   "metadata": {},
   "outputs": [],
   "source": [
    "dic = {\n",
    "    'juridiction' : [],\n",
    "    'pub_year' : [],\n",
    "    'kind' : [],\n",
    "    'app_year' : [],\n",
    "    'app_type' : [],\n",
    "    'prior_year' : [], \n",
    "    'prior_country' : [],\n",
    "    'title' : [],\n",
    "    'assignee' : [],\n",
    "    'inventors' : [],\n",
    "    'abstract' : [],\n",
    "    'claims' : []\n",
    "}\n"
   ]
  },
  {
   "cell_type": "code",
   "execution_count": 32,
   "metadata": {},
   "outputs": [],
   "source": [
    "\n",
    "for i, file in enumerate(file_content):\n",
    "#i = file_content[10]\n",
    "    root = ET.fromstring(str(bs(file, 'xml')))\n",
    "    if root.tag == 'us-patent-application':\n",
    "        # getting country of publication from attributes of the roots \n",
    "        dic['juridiction'].append(root.attrib['country'])\n",
    "\n",
    "        # giving name to childs of root \n",
    "        bibliographic_data_elem = root.find('us-bibliographic-data-application')\n",
    "        abstract = root.find('abstract')\n",
    "        drawings = root.find('drawings')\n",
    "        description = root.find('description')\n",
    "        claims = root.find(\"claims\")\n",
    "\n",
    "        # appending abstract to the dic\n",
    "        dic['abstract'].append(abstract.find('p').text)\n",
    "\n",
    "        # appending publication year and kind\n",
    "        for i in bibliographic_data_elem.find('publication-reference').find('document-id').getchildren():\n",
    "            if i.tag == 'date':\n",
    "                yyyy = i.text[0:4]\n",
    "                # mm = i.text[4:6]\n",
    "                # dd = i.text[6:8]\n",
    "                dic['pub_year'].append(int(yyyy))\n",
    "            if i.tag == 'kind':\n",
    "                dic['kind'].append(i.text)\n",
    "\n",
    "        # appending application year and application utility\n",
    "        for i in bibliographic_data_elem.find('application-reference').find('document-id').getchildren():\n",
    "            if i.tag == 'date':\n",
    "                yyyy = i.text[0:4]\n",
    "                # mm = i.text[4:6]\n",
    "                # dd = i.text[6:8]\n",
    "                dic['app_year'].append(int(yyyy))\n",
    "\n",
    "        dic['app_type'].append(bibliographic_data_elem.find('application-reference').attrib['appl-type'])\n",
    "\n",
    "        # for priority claims/ if published in other countries \n",
    "        priority_claims = bibliographic_data_elem.find('priority-claims')\n",
    "        if priority_claims != None:\n",
    "            for i in priority_claims.find('priority-claim').getchildren():\n",
    "                if i.tag == 'country':\n",
    "                    dic['prior_country'].append(i.text)\n",
    "                if i.tag == 'date':\n",
    "                    yyyy = i.text[0:4]\n",
    "                    dic['prior_year'].append(int(yyyy))\n",
    "                    #mm = i.text[4:6]\n",
    "                    #dd = i.text[6:8]\n",
    "        else:\n",
    "            dic['prior_country'].append('')\n",
    "            dic['prior_year'].append('')\n",
    "\n",
    "        # adding invention title\n",
    "        dic['title'].append(bibliographic_data_elem.find('invention-title').text)\n",
    "\n",
    "        # adding assignees\n",
    "        assignees = bibliographic_data_elem.find('assignees')\n",
    "        if assignees != None:\n",
    "            org_names = []\n",
    "            for assignee in assignees:\n",
    "                if assignee.find('orgname') != None:\n",
    "                    org_name = assignee.find('orgname').text\n",
    "                    org_names.append(org_name)\n",
    "            dic['assignee'].append(org_names)\n",
    "        else:\n",
    "            dic['assignee'].append('')\n",
    "\n",
    "\n",
    "        # adding Inventors\n",
    "        us_parties = bibliographic_data_elem.find('us-parties')\n",
    "        inventors = us_parties.find('inventors').getchildren()\n",
    "        inventor = []\n",
    "        #countries = []\n",
    "        addressbooks = []\n",
    "        for i in inventors:\n",
    "            addressbooks.append(i.getchildren()[0])\n",
    "        for i in addressbooks:\n",
    "            name = ''\n",
    "            childs = i.getchildren()\n",
    "            for child in childs:\n",
    "                if child.tag == 'last-name':\n",
    "                    name += child.text\n",
    "                if child.tag == 'first-name':\n",
    "                    name = child.text + ' ' + name\n",
    "                #if child.tag == 'address':\n",
    "                #    countries.append(child.find('country').text)\n",
    "            inventor.append(name)\n",
    "        dic['inventors'].append(inventor)\n",
    "\n",
    "        # adding claims\n",
    "        claims_child = claims.getchildren()\n",
    "        claims = ''\n",
    "        for childs in claims_child:\n",
    "            for child in childs:\n",
    "                for i in child:\n",
    "                    if i.tag == 'claim-text':\n",
    "                        if i.text != None:\n",
    "                            claims += i.text + ' '\n",
    "        dic['claims'].append(claims)"
   ]
  },
  {
   "cell_type": "code",
   "execution_count": 33,
   "metadata": {},
   "outputs": [
    {
     "output_type": "stream",
     "name": "stdout",
     "text": [
      "5626 5626 5626 5626 5626 5626 5626 5626 5626 5626 5626 5626\n"
     ]
    }
   ],
   "source": [
    "\n",
    "print(len(dic['juridiction']), len(dic['pub_year']), len(dic['kind']), len(dic['app_year']), len(dic['app_type']),\n",
    "len(dic['title']), len(dic['assignee']), len(dic['inventors']), len(dic['abstract']), len(dic['prior_country']), len(dic['prior_year']), len(dic['claims']))"
   ]
  },
  {
   "cell_type": "code",
   "execution_count": 1,
   "metadata": {},
   "outputs": [
    {
     "output_type": "execute_result",
     "data": {
      "text/plain": [
       "     juridiction  pub_year kind  app_year app_type prior_year prior_country  \\\n",
       "0             US      2020   A1      2019  utility       2017            RU   \n",
       "1             US      2020   A1      2018  utility       2017            FR   \n",
       "2             US      2020   A1      2019  utility                            \n",
       "3             US      2020   A1      2018  utility                            \n",
       "4             US      2020   A1      2018  utility                            \n",
       "...          ...       ...  ...       ...      ...        ...           ...   \n",
       "5621          US      2020   P1      2019    plant                            \n",
       "5622          US      2020   P1      2019    plant                            \n",
       "5623          US      2020   P1      2019    plant                            \n",
       "5624          US      2020   P1      2019    plant                            \n",
       "5625          US      2020   P1      2019    plant                            \n",
       "\n",
       "                                                  title  \\\n",
       "0     METHOD FOR CULTIVATING SOWN CROPS AND APPARATU...   \n",
       "1                 HITCH DEVICE FOR AGRICULTURAL VEHICLE   \n",
       "2         COMPACT ROW CLOSER AND ROW CLEANER ASSEMBLIES   \n",
       "3     SYSTEM AND RELATED METHODS FOR MONITORING AND ...   \n",
       "4     SYSTEM AND METHOD FOR CONTROLLING THE SPEED OF...   \n",
       "...                                                 ...   \n",
       "5621             Calla lily plant named 'Peter's Pride'   \n",
       "5622             Calla lily plant named 'Diva Himalaya'   \n",
       "5623               Calla Lily plant named 'Diva Alpina'   \n",
       "5624              Calla lily plant named 'Diva Siberia'   \n",
       "5625               Calla Lily Plant Named 'Diva Bianca'   \n",
       "\n",
       "                          assignee  \\\n",
       "0                                    \n",
       "1                                    \n",
       "2                                    \n",
       "3     [CNH Industrial America LLC]   \n",
       "4     [CNH Industrial America LLC]   \n",
       "...                            ...   \n",
       "5621                                 \n",
       "5622                                 \n",
       "5623                                 \n",
       "5624                                 \n",
       "5625                                 \n",
       "\n",
       "                                              inventors  \\\n",
       "0                       [Sergei Vladimirovich BRINDYUK]   \n",
       "1                                     [Hubert DEFRANCQ]   \n",
       "2     [Ronald Steve Martin, Travis Harnetiaux, Asgha...   \n",
       "3                                         [Ivan Antich]   \n",
       "4     [Christopher Schoeny, Trevor Stanhope, Darian ...   \n",
       "...                                                 ...   \n",
       "5621                                    [Peter Beckman]   \n",
       "5622                                    [Peter Beckman]   \n",
       "5623                                    [Peter Beckman]   \n",
       "5624                                    [Peter Beckman]   \n",
       "5625                                    [Peter Beckman]   \n",
       "\n",
       "                                               abstract  \\\n",
       "0     A method for increasing the efficiency of farm...   \n",
       "1     A hitch device for an implement is capable of ...   \n",
       "2     An apparatus and system for adjustably control...   \n",
       "3     In one aspect, a method is disclosed for adjus...   \n",
       "4     In one aspect, a system for controlling the sp...   \n",
       "...                                                 ...   \n",
       "5621  ‘Peter's Pride’ is a new variety of calla lily...   \n",
       "5622  ‘Diva Himalaya’ is a new variety of calla lily...   \n",
       "5623  ‘Diva Alpina’ is a new variety of calla lily p...   \n",
       "5624  ‘Diva Siberia’ is a new variety of calla lily ...   \n",
       "5625  ‘Diva Bianca’ is a new variety of calla lily p...   \n",
       "\n",
       "                                                 claims  \n",
       "0     in a technological operation, preparing the fi...  \n",
       "1     a first chassis ( a second chassis ( means ( a...  \n",
       "2     a frame mounting plate; a set of at least two ...  \n",
       "3     determining, by the computing device, a target...  \n",
       "4     a furrow closing assembly including at least o...  \n",
       "...                                                 ...  \n",
       "5621                                                     \n",
       "5622                                                     \n",
       "5623                                                     \n",
       "5624                                                     \n",
       "5625                                                     \n",
       "\n",
       "[5626 rows x 12 columns]"
      ],
      "text/html": "<div>\n<style scoped>\n    .dataframe tbody tr th:only-of-type {\n        vertical-align: middle;\n    }\n\n    .dataframe tbody tr th {\n        vertical-align: top;\n    }\n\n    .dataframe thead th {\n        text-align: right;\n    }\n</style>\n<table border=\"1\" class=\"dataframe\">\n  <thead>\n    <tr style=\"text-align: right;\">\n      <th></th>\n      <th>juridiction</th>\n      <th>pub_year</th>\n      <th>kind</th>\n      <th>app_year</th>\n      <th>app_type</th>\n      <th>prior_year</th>\n      <th>prior_country</th>\n      <th>title</th>\n      <th>assignee</th>\n      <th>inventors</th>\n      <th>abstract</th>\n      <th>claims</th>\n    </tr>\n  </thead>\n  <tbody>\n    <tr>\n      <th>0</th>\n      <td>US</td>\n      <td>2020</td>\n      <td>A1</td>\n      <td>2019</td>\n      <td>utility</td>\n      <td>2017</td>\n      <td>RU</td>\n      <td>METHOD FOR CULTIVATING SOWN CROPS AND APPARATU...</td>\n      <td></td>\n      <td>[Sergei Vladimirovich BRINDYUK]</td>\n      <td>A method for increasing the efficiency of farm...</td>\n      <td>in a technological operation, preparing the fi...</td>\n    </tr>\n    <tr>\n      <th>1</th>\n      <td>US</td>\n      <td>2020</td>\n      <td>A1</td>\n      <td>2018</td>\n      <td>utility</td>\n      <td>2017</td>\n      <td>FR</td>\n      <td>HITCH DEVICE FOR AGRICULTURAL VEHICLE</td>\n      <td></td>\n      <td>[Hubert DEFRANCQ]</td>\n      <td>A hitch device for an implement is capable of ...</td>\n      <td>a first chassis ( a second chassis ( means ( a...</td>\n    </tr>\n    <tr>\n      <th>2</th>\n      <td>US</td>\n      <td>2020</td>\n      <td>A1</td>\n      <td>2019</td>\n      <td>utility</td>\n      <td></td>\n      <td></td>\n      <td>COMPACT ROW CLOSER AND ROW CLEANER ASSEMBLIES</td>\n      <td></td>\n      <td>[Ronald Steve Martin, Travis Harnetiaux, Asgha...</td>\n      <td>An apparatus and system for adjustably control...</td>\n      <td>a frame mounting plate; a set of at least two ...</td>\n    </tr>\n    <tr>\n      <th>3</th>\n      <td>US</td>\n      <td>2020</td>\n      <td>A1</td>\n      <td>2018</td>\n      <td>utility</td>\n      <td></td>\n      <td></td>\n      <td>SYSTEM AND RELATED METHODS FOR MONITORING AND ...</td>\n      <td>[CNH Industrial America LLC]</td>\n      <td>[Ivan Antich]</td>\n      <td>In one aspect, a method is disclosed for adjus...</td>\n      <td>determining, by the computing device, a target...</td>\n    </tr>\n    <tr>\n      <th>4</th>\n      <td>US</td>\n      <td>2020</td>\n      <td>A1</td>\n      <td>2018</td>\n      <td>utility</td>\n      <td></td>\n      <td></td>\n      <td>SYSTEM AND METHOD FOR CONTROLLING THE SPEED OF...</td>\n      <td>[CNH Industrial America LLC]</td>\n      <td>[Christopher Schoeny, Trevor Stanhope, Darian ...</td>\n      <td>In one aspect, a system for controlling the sp...</td>\n      <td>a furrow closing assembly including at least o...</td>\n    </tr>\n    <tr>\n      <th>...</th>\n      <td>...</td>\n      <td>...</td>\n      <td>...</td>\n      <td>...</td>\n      <td>...</td>\n      <td>...</td>\n      <td>...</td>\n      <td>...</td>\n      <td>...</td>\n      <td>...</td>\n      <td>...</td>\n      <td>...</td>\n    </tr>\n    <tr>\n      <th>5621</th>\n      <td>US</td>\n      <td>2020</td>\n      <td>P1</td>\n      <td>2019</td>\n      <td>plant</td>\n      <td></td>\n      <td></td>\n      <td>Calla lily plant named 'Peter's Pride'</td>\n      <td></td>\n      <td>[Peter Beckman]</td>\n      <td>‘Peter's Pride’ is a new variety of calla lily...</td>\n      <td></td>\n    </tr>\n    <tr>\n      <th>5622</th>\n      <td>US</td>\n      <td>2020</td>\n      <td>P1</td>\n      <td>2019</td>\n      <td>plant</td>\n      <td></td>\n      <td></td>\n      <td>Calla lily plant named 'Diva Himalaya'</td>\n      <td></td>\n      <td>[Peter Beckman]</td>\n      <td>‘Diva Himalaya’ is a new variety of calla lily...</td>\n      <td></td>\n    </tr>\n    <tr>\n      <th>5623</th>\n      <td>US</td>\n      <td>2020</td>\n      <td>P1</td>\n      <td>2019</td>\n      <td>plant</td>\n      <td></td>\n      <td></td>\n      <td>Calla Lily plant named 'Diva Alpina'</td>\n      <td></td>\n      <td>[Peter Beckman]</td>\n      <td>‘Diva Alpina’ is a new variety of calla lily p...</td>\n      <td></td>\n    </tr>\n    <tr>\n      <th>5624</th>\n      <td>US</td>\n      <td>2020</td>\n      <td>P1</td>\n      <td>2019</td>\n      <td>plant</td>\n      <td></td>\n      <td></td>\n      <td>Calla lily plant named 'Diva Siberia'</td>\n      <td></td>\n      <td>[Peter Beckman]</td>\n      <td>‘Diva Siberia’ is a new variety of calla lily ...</td>\n      <td></td>\n    </tr>\n    <tr>\n      <th>5625</th>\n      <td>US</td>\n      <td>2020</td>\n      <td>P1</td>\n      <td>2019</td>\n      <td>plant</td>\n      <td></td>\n      <td></td>\n      <td>Calla Lily Plant Named 'Diva Bianca'</td>\n      <td></td>\n      <td>[Peter Beckman]</td>\n      <td>‘Diva Bianca’ is a new variety of calla lily p...</td>\n      <td></td>\n    </tr>\n  </tbody>\n</table>\n<p>5626 rows × 12 columns</p>\n</div>"
     },
     "metadata": {},
     "execution_count": 1
    }
   ],
   "source": [
    "import patent_parser as pp\n",
    "df = pp.parse_patents('ipa200409.xml', 'ipa200409')\n",
    "df"
   ]
  },
  {
   "cell_type": "code",
   "execution_count": 2,
   "metadata": {},
   "outputs": [],
   "source": [
    "df.to_csv('ipa200409.csv', index = False)"
   ]
  },
  {
   "cell_type": "code",
   "execution_count": null,
   "metadata": {},
   "outputs": [],
   "source": []
  }
 ]
}